{
  "nbformat": 4,
  "nbformat_minor": 0,
  "metadata": {
    "kernelspec": {
      "display_name": "Python 3",
      "language": "python",
      "name": "python3"
    },
    "language_info": {
      "codemirror_mode": {
        "name": "ipython",
        "version": 3
      },
      "file_extension": ".py",
      "mimetype": "text/x-python",
      "name": "python",
      "nbconvert_exporter": "python",
      "pygments_lexer": "ipython3",
      "version": "3.8.3-final"
    },
    "colab": {
      "name": "LinAlg Week4-Lab 4.ipynb",
      "provenance": [],
      "collapsed_sections": [],
      "include_colab_link": true
    }
  },
  "cells": [
    {
      "cell_type": "markdown",
      "metadata": {
        "id": "view-in-github",
        "colab_type": "text"
      },
      "source": [
        "<a href=\"https://colab.research.google.com/github/brianjavines/Week4-Lab4/blob/main/LinAlg_Week4_Lab_4.ipynb\" target=\"_parent\"><img src=\"https://colab.research.google.com/assets/colab-badge.svg\" alt=\"Open In Colab\"/></a>"
      ]
    },
    {
      "cell_type": "markdown",
      "metadata": {
        "id": "0gjyPA1JKtdS"
      },
      "source": [
        "# Linear Algebra for CpE\n",
        "## Laboratory 4 : Vector Operations"
      ]
    },
    {
      "cell_type": "markdown",
      "metadata": {
        "id": "iH6HK15uKtdX"
      },
      "source": [
        "Now that you have a fundamental knowledge about linear combination, we'll try to apply the fundamental operations"
      ]
    },
    {
      "cell_type": "markdown",
      "metadata": {
        "id": "ocioHyMQKtdY"
      },
      "source": [
        "### Objectives\n",
        "At the end of this activity you will be able to:\n",
        "1. Referesh knowledge on vector operations while being familiar with new operations such as products.\n",
        "2. Visualize vector operations.\n",
        "3. Perform vector operations using Python."
      ]
    },
    {
      "cell_type": "markdown",
      "metadata": {
        "id": "H12RzFWIKtdY"
      },
      "source": [
        "## Discussion"
      ]
    },
    {
      "cell_type": "code",
      "metadata": {
        "id": "KXJ82gYQKtdY"
      },
      "source": [
        "import numpy as np\r\n",
        "import matplotlib.pyplot as plt"
      ],
      "execution_count": null,
      "outputs": []
    },
    {
      "cell_type": "markdown",
      "metadata": {
        "id": "wil6uzDcKtdZ"
      },
      "source": [
        "We have dealt with some of the vector operations in the last module, now we will dwell into more operations. In this laboratory, we will tackle addition,multiplication,division and the inner product of a vector."
      ]
    },
    {
      "cell_type": "markdown",
      "metadata": {
        "id": "wPO82O4hKtdZ"
      },
      "source": [
        "## Vector Addition"
      ]
    },
    {
      "cell_type": "markdown",
      "metadata": {
        "id": "ulK053qqKtdZ"
      },
      "source": [
        "We have encountered vector before especially with your last activity. Vector addition is simply the element-wise addition of the scalar values of the vectors. Let's take the following vectors as a sample:\n",
        "\n",
        "$$A = \\begin{bmatrix}1\\\\2\\\\0\\end{bmatrix}, B= \\begin{bmatrix}3\\\\1\\\\-2 \\end{bmatrix}$$\n",
        "\n",
        "So if do a vector addition of these two vectors we'll get:\n",
        "\n",
        "$$A + B = \\begin{bmatrix}4\\\\3\\\\-2\\end{bmatrix}$$\n",
        "\n",
        "We can progammatically solve this using `np.add()` or simply using `+`."
      ]
    },
    {
      "cell_type": "code",
      "metadata": {
        "id": "jOnYm-YrKtdZ"
      },
      "source": [
        "A = np.array([1,2,0])\n",
        "B = np.array([3,1,-2])\n",
        "C = np.array([0,0,1])"
      ],
      "execution_count": null,
      "outputs": []
    },
    {
      "cell_type": "code",
      "metadata": {
        "id": "Id_OTsfrKtda",
        "colab": {
          "base_uri": "https://localhost:8080/"
        },
        "outputId": "755fa8bc-9c52-4aaa-fcad-8e23e2151ad1"
      },
      "source": [
        "A+B+C"
      ],
      "execution_count": null,
      "outputs": [
        {
          "output_type": "execute_result",
          "data": {
            "text/plain": [
              "array([ 4,  3, -1])"
            ]
          },
          "metadata": {
            "tags": []
          },
          "execution_count": 28
        }
      ]
    },
    {
      "cell_type": "code",
      "metadata": {
        "id": "OSdg5AJuKtdb",
        "colab": {
          "base_uri": "https://localhost:8080/"
        },
        "outputId": "d4aca5e8-1369-40f0-b867-bf36a90906e0"
      },
      "source": [
        "np.add(A,np.add(B,C))"
      ],
      "execution_count": null,
      "outputs": [
        {
          "output_type": "execute_result",
          "data": {
            "text/plain": [
              "array([ 4,  3, -1])"
            ]
          },
          "metadata": {
            "tags": []
          },
          "execution_count": 29
        }
      ]
    },
    {
      "cell_type": "code",
      "metadata": {
        "colab": {
          "base_uri": "https://localhost:8080/"
        },
        "id": "U9ZbuWL77MdP",
        "outputId": "30f3bea2-1f09-40dc-9777-bba90edac006"
      },
      "source": [
        "np.sum(B)"
      ],
      "execution_count": null,
      "outputs": [
        {
          "output_type": "execute_result",
          "data": {
            "text/plain": [
              "2"
            ]
          },
          "metadata": {
            "tags": []
          },
          "execution_count": 30
        }
      ]
    },
    {
      "cell_type": "markdown",
      "metadata": {
        "id": "hcmngHMmKtdb"
      },
      "source": [
        "## Vector Subtraction"
      ]
    },
    {
      "cell_type": "markdown",
      "metadata": {
        "id": "YLJmSSG0Ktdb"
      },
      "source": [
        "Vector subtraction is similar to your vector addition but you would need to scale the second vector using a negative scalar that is usuall $-1$. So if we subtract vector $B$ from vector $A$ we get:\n",
        "\n",
        "$$A-B = \\begin{bmatrix}-2\\\\1\\\\2\\end{bmatrix}$$\n",
        "\n",
        "In Python, this can be achieved by using `np.subtract()` or `-`"
      ]
    },
    {
      "cell_type": "code",
      "metadata": {
        "id": "mrAGvr5gKtdb",
        "colab": {
          "base_uri": "https://localhost:8080/"
        },
        "outputId": "613cf7ea-78b1-4083-e6e0-f548579cc2c8"
      },
      "source": [
        "np.subtract(A,B)"
      ],
      "execution_count": null,
      "outputs": [
        {
          "output_type": "execute_result",
          "data": {
            "text/plain": [
              "array([-2,  1,  2])"
            ]
          },
          "metadata": {
            "tags": []
          },
          "execution_count": 31
        }
      ]
    },
    {
      "cell_type": "code",
      "metadata": {
        "id": "S2bPjOFUKtdc",
        "colab": {
          "base_uri": "https://localhost:8080/"
        },
        "outputId": "7e754d70-52c5-4d9d-f61f-64949dc4bab2"
      },
      "source": [
        "A-B"
      ],
      "execution_count": null,
      "outputs": [
        {
          "output_type": "execute_result",
          "data": {
            "text/plain": [
              "array([-2,  1,  2])"
            ]
          },
          "metadata": {
            "tags": []
          },
          "execution_count": 32
        }
      ]
    },
    {
      "cell_type": "markdown",
      "metadata": {
        "id": "bWdtUj7OKtdc"
      },
      "source": [
        "## Vector Multiplication"
      ]
    },
    {
      "cell_type": "markdown",
      "metadata": {
        "id": "pgcB5oNyKtdc"
      },
      "source": [
        "Vector multiplication, like addition does its operations element-wise. So basic vector multiplication can be achieved by multiplying the elements or the scalars of the vectors individually. So:\n",
        "$$A * B = \\begin{bmatrix}3\\\\2\\\\0\\end{bmatrix}$$\n",
        "We can implement this in code by using `np.multiply()` or simply operating with `*`."
      ]
    },
    {
      "cell_type": "code",
      "metadata": {
        "id": "ep8YyQDmKtdd",
        "colab": {
          "base_uri": "https://localhost:8080/"
        },
        "outputId": "04b6f402-e381-410a-fe9e-8298fb2a523d"
      },
      "source": [
        "np.multiply(A,B)"
      ],
      "execution_count": null,
      "outputs": [
        {
          "output_type": "execute_result",
          "data": {
            "text/plain": [
              "array([3, 2, 0])"
            ]
          },
          "metadata": {
            "tags": []
          },
          "execution_count": 33
        }
      ]
    },
    {
      "cell_type": "code",
      "metadata": {
        "id": "GWygp8gkKtdd",
        "colab": {
          "base_uri": "https://localhost:8080/"
        },
        "outputId": "0f59cac6-99d2-45ab-c495-4101d0900454"
      },
      "source": [
        "A*B"
      ],
      "execution_count": null,
      "outputs": [
        {
          "output_type": "execute_result",
          "data": {
            "text/plain": [
              "array([3, 2, 0])"
            ]
          },
          "metadata": {
            "tags": []
          },
          "execution_count": 34
        }
      ]
    },
    {
      "cell_type": "markdown",
      "metadata": {
        "id": "Nva_5geWKtdd"
      },
      "source": [
        "## Vector Division"
      ]
    },
    {
      "cell_type": "markdown",
      "metadata": {
        "id": "gbPLif1CKtdd"
      },
      "source": [
        "Dividing a vector by another is uncommon, but if the situation specifies that each elements or scalars of the vector would be divided individually we can perform this by:\n",
        "$$A./B = \\begin{bmatrix}\\frac{1}{3}\\\\2\\\\0\\end{bmatrix}$$\n",
        "Take note that the notation we used here is $./$ for element-wise division, this notation is based in a MATLab notation for element-wise division. This can be achieved in Python using `np.divide()` or `/`."
      ]
    },
    {
      "cell_type": "code",
      "metadata": {
        "id": "i503AW8uKtdd",
        "colab": {
          "base_uri": "https://localhost:8080/"
        },
        "outputId": "521fc539-a9eb-4b81-b37c-155acc01be04"
      },
      "source": [
        "np.divide(A,B)"
      ],
      "execution_count": null,
      "outputs": [
        {
          "output_type": "execute_result",
          "data": {
            "text/plain": [
              "array([ 0.33333333,  2.        , -0.        ])"
            ]
          },
          "metadata": {
            "tags": []
          },
          "execution_count": 35
        }
      ]
    },
    {
      "cell_type": "code",
      "metadata": {
        "id": "un6jrygRKtdg",
        "colab": {
          "base_uri": "https://localhost:8080/"
        },
        "outputId": "bb59a32a-5aed-462b-d157-a36f568b5018"
      },
      "source": [
        "A/B"
      ],
      "execution_count": null,
      "outputs": [
        {
          "output_type": "execute_result",
          "data": {
            "text/plain": [
              "array([ 0.33333333,  2.        , -0.        ])"
            ]
          },
          "metadata": {
            "tags": []
          },
          "execution_count": 36
        }
      ]
    },
    {
      "cell_type": "code",
      "metadata": {
        "colab": {
          "base_uri": "https://localhost:8080/"
        },
        "id": "3cHXU6VN732O",
        "outputId": "2e4655ba-21a2-478a-88eb-5641c4f935ba"
      },
      "source": [
        "C = np.array([3.9,1.8,7.7])\r\n",
        "D = np.array([1,1,1])\r\n",
        "C//D"
      ],
      "execution_count": null,
      "outputs": [
        {
          "output_type": "execute_result",
          "data": {
            "text/plain": [
              "array([3., 1., 7.])"
            ]
          },
          "metadata": {
            "tags": []
          },
          "execution_count": 37
        }
      ]
    },
    {
      "cell_type": "code",
      "metadata": {
        "colab": {
          "base_uri": "https://localhost:8080/"
        },
        "id": "eG5bfGlZ7a9Z",
        "outputId": "fcb4f37d-a6c8-4859-c129-9e0584eb7646"
      },
      "source": [
        "np.array(A/B,dtype=int)"
      ],
      "execution_count": null,
      "outputs": [
        {
          "output_type": "execute_result",
          "data": {
            "text/plain": [
              "array([0, 2, 0])"
            ]
          },
          "metadata": {
            "tags": []
          },
          "execution_count": 38
        }
      ]
    },
    {
      "cell_type": "markdown",
      "metadata": {
        "id": "e96oBq1nKtdg"
      },
      "source": [
        "## Modulus of a Vector"
      ]
    },
    {
      "cell_type": "markdown",
      "metadata": {
        "id": "fOmYCOHEKtdg"
      },
      "source": [
        "The modulus of a vector or the magnitude of a vector can be determined using the Pythagorean theorem. Given the vector $A$ and its scalars denoted as $a_n$ where $n$ is the index of the scalar. So if we have:\n",
        "$$A = \\begin{bmatrix}1\\\\2\\end{bmatrix}$$\n",
        "We can compute the magnitude as:\n",
        "$$||A|| = \\sqrt{a_1^2 + a_2^2} = \\sqrt{1^2 + 2^2} = \\sqrt{5}$$\n",
        "So if we have a matrix with more parameters such as:\n",
        "$$B=\\begin{bmatrix}2\\\\5\\\\-1\\\\0\\end{bmatrix}$$\n",
        "We can generalize the Pythagorean theorem to compute for the magnitude as:\n",
        "$$||B|| = \\sqrt{b_1^2 + b_2^2 + b_3^2 + ... +b_n^2} = \\sqrt{\\sum_{n=1}^{N}b_n^2}$$\n",
        "And this equation is now called a Euclidian distance or the Euclidean Norm. We can implement this explicitly by for loops or using `np.linalg.norm()` to get the Euclidian Norm."
      ]
    },
    {
      "cell_type": "code",
      "metadata": {
        "id": "kcBJB76oKtdh"
      },
      "source": [
        "A = np.array([1,2])\n",
        "B = np.array([2,5,-1,0])"
      ],
      "execution_count": null,
      "outputs": []
    },
    {
      "cell_type": "code",
      "metadata": {
        "id": "ABdM9ETAKtdh",
        "colab": {
          "base_uri": "https://localhost:8080/"
        },
        "outputId": "be33ed36-4aa0-49e6-e6d5-9f3737a7775b"
      },
      "source": [
        "np.linalg.norm(A)"
      ],
      "execution_count": null,
      "outputs": [
        {
          "output_type": "execute_result",
          "data": {
            "text/plain": [
              "2.23606797749979"
            ]
          },
          "metadata": {
            "tags": []
          },
          "execution_count": 40
        }
      ]
    },
    {
      "cell_type": "code",
      "metadata": {
        "id": "if7rRjUHKtdh",
        "colab": {
          "base_uri": "https://localhost:8080/"
        },
        "outputId": "249cf8e7-12b7-456c-cd39-cb5e66914e1e"
      },
      "source": [
        "np.linalg.norm(B)"
      ],
      "execution_count": null,
      "outputs": [
        {
          "output_type": "execute_result",
          "data": {
            "text/plain": [
              "5.477225575051661"
            ]
          },
          "metadata": {
            "tags": []
          },
          "execution_count": 41
        }
      ]
    },
    {
      "cell_type": "markdown",
      "metadata": {
        "id": "9CqMVpT2Ktdh"
      },
      "source": [
        "## Vector Dot Product / Inner Product"
      ]
    },
    {
      "cell_type": "markdown",
      "metadata": {
        "id": "Yqk9nR9GKtdh"
      },
      "source": [
        "The inner product of a vector is the sum of the products of each elements of the vectors. So given vectors $H$ and $G$ below:\n",
        "$$H=\\begin{bmatrix}1\\\\3\\\\6\\end{bmatrix}, G = \\begin{bmatrix}5\\\\2\\\\1\\end{bmatrix}$$\n",
        "We first take the element-wise product of the vectors:\n",
        "$$H*G = \\begin{bmatrix}5\\\\6\\\\6\\end{bmatrix}$$\n",
        "Then we take the sum of the products, making it the inner product of a vector:\n",
        "$$H\\cdot G = 17$$\n",
        "You can solve for the inner product using an explicit function, `np.inner()` or the `@` operator."
      ]
    },
    {
      "cell_type": "code",
      "metadata": {
        "id": "ZWwwV0F9Ktdh"
      },
      "source": [
        "H = np.array([1,3,6])\n",
        "G = np.array([5,2,1])"
      ],
      "execution_count": null,
      "outputs": []
    },
    {
      "cell_type": "code",
      "metadata": {
        "id": "D3nyuLCBKtdi",
        "colab": {
          "base_uri": "https://localhost:8080/"
        },
        "outputId": "b75464a8-1c8f-4ece-ddd2-92d9e154d958"
      },
      "source": [
        "np.inner(H,G)"
      ],
      "execution_count": null,
      "outputs": [
        {
          "output_type": "execute_result",
          "data": {
            "text/plain": [
              "17"
            ]
          },
          "metadata": {
            "tags": []
          },
          "execution_count": 43
        }
      ]
    },
    {
      "cell_type": "code",
      "metadata": {
        "id": "NsrPudsKKtdi",
        "colab": {
          "base_uri": "https://localhost:8080/"
        },
        "outputId": "9856ce7b-07eb-4be6-d8e0-15971eba8917"
      },
      "source": [
        "np.linalg.norm(H)"
      ],
      "execution_count": null,
      "outputs": [
        {
          "output_type": "execute_result",
          "data": {
            "text/plain": [
              "6.782329983125268"
            ]
          },
          "metadata": {
            "tags": []
          },
          "execution_count": 44
        }
      ]
    },
    {
      "cell_type": "code",
      "metadata": {
        "colab": {
          "base_uri": "https://localhost:8080/"
        },
        "id": "fRN3M2UN9WPm",
        "outputId": "6579425c-c76d-496c-da6a-c8a94d0f591e"
      },
      "source": [
        "np.sqrt(H@H)"
      ],
      "execution_count": null,
      "outputs": [
        {
          "output_type": "execute_result",
          "data": {
            "text/plain": [
              "6.782329983125268"
            ]
          },
          "metadata": {
            "tags": []
          },
          "execution_count": 45
        }
      ]
    },
    {
      "cell_type": "markdown",
      "metadata": {
        "id": "As11de-AKtdi"
      },
      "source": [
        "## Activity"
      ]
    },
    {
      "cell_type": "markdown",
      "metadata": {
        "id": "g6my9m9OKtdi"
      },
      "source": [
        "### Task 1"
      ]
    },
    {
      "cell_type": "markdown",
      "metadata": {
        "id": "yP-XW99JKtdi"
      },
      "source": [
        "Make an explicit function (not using any of NumPy's preset functions) solving the modulus of a vector using the Euclidian Norm formula: \n",
        "$$||X|| = \\sqrt{\\sum_{n=1}^{N}x_n^2}$$\n",
        "Create a program flowchart for your algorithm and explain it in your methodology. Create 6 different vectors which their element count should not be lower than 4 elements. Explain the results at the results discussion section while comparing them to the `np.linalg.norm()` function."
      ]
    },
    {
      "cell_type": "code",
      "metadata": {
        "id": "IuoG8l9mKtdj",
        "colab": {
          "base_uri": "https://localhost:8080/"
        },
        "outputId": "a3e56ad5-6053-4e05-897e-c5d2cacfe758"
      },
      "source": [
        "def explicit_function(V):\r\n",
        "  V = np.sqrt(V[0]**2 + V[1]**2 + V[2]**2 + V[3]**2 + V[4]**2)\r\n",
        "  print(V)\r\n",
        "\r\n",
        "a = np.array([1,2,3,4,5])\r\n",
        "b = np.array([6,7,8,9,10])\r\n",
        "c = np.array([11,12,13,14,15])\r\n",
        "d = np.array([15,14,13,12,11])\r\n",
        "e = np.array([10,9,8,7,6])\r\n",
        "f = np.array([5,4,3,2,1])\r\n",
        "\r\n",
        "print(\"Euclidian Norm Formula for a:\")\r\n",
        "explicit_function(a)\r\n",
        "A1 = np.linalg.norm(a)\r\n",
        "print(\"the np.linalg.norm form of a:\\n\",A1)\r\n",
        "\r\n",
        "print(\"\\nEuclidian Norm Formula for b:\")\r\n",
        "explicit_function(b)\r\n",
        "A2 = np.linalg.norm(b)\r\n",
        "print(\"the np.linalg.norm form of b:\\n\",A2)\r\n",
        "\r\n",
        "print(\"\\nEuclidian Norm Formula for c:\")\r\n",
        "explicit_function(c)\r\n",
        "A3 = np.linalg.norm(c)\r\n",
        "print(\"the np.linalg.norm form of c:\\n\",A3)\r\n",
        "\r\n",
        "print(\"\\nEuclidian Norm Formula for d:\")\r\n",
        "explicit_function(d)\r\n",
        "A4 = np.linalg.norm(d)\r\n",
        "print(\"the np.linalg.norm form of d:\\n\",A4)\r\n",
        "\r\n",
        "print(\"\\nEuclidian Norm Formula for e:\")\r\n",
        "explicit_function(e)\r\n",
        "A5 = np.linalg.norm(e)\r\n",
        "print(\"the np.linalg.norm form of e\\n:\",A5)\r\n",
        "\r\n",
        "print(\"\\nEuclidian Norm Formula for f:\")\r\n",
        "explicit_function(f)\r\n",
        "A6 = np.linalg.norm(f)\r\n",
        "print(\"the np.linalg.norm form of f:\\n\",A6)"
      ],
      "execution_count": null,
      "outputs": [
        {
          "output_type": "stream",
          "text": [
            "Euclidian Norm Formula for a:\n",
            "7.416198487095663\n",
            "the np.linalg.norm form of a:\n",
            " 7.416198487095663\n",
            "\n",
            "Euclidian Norm Formula for b:\n",
            "18.16590212458495\n",
            "the np.linalg.norm form of b:\n",
            " 18.16590212458495\n",
            "\n",
            "Euclidian Norm Formula for c:\n",
            "29.24038303442689\n",
            "the np.linalg.norm form of c:\n",
            " 29.24038303442689\n",
            "\n",
            "Euclidian Norm Formula for d:\n",
            "29.24038303442689\n",
            "the np.linalg.norm form of d:\n",
            " 29.24038303442689\n",
            "\n",
            "Euclidian Norm Formula for e:\n",
            "18.16590212458495\n",
            "the np.linalg.norm form of e\n",
            ": 18.16590212458495\n",
            "\n",
            "Euclidian Norm Formula for f:\n",
            "7.416198487095663\n",
            "the np.linalg.norm form of f:\n",
            " 7.416198487095663\n"
          ],
          "name": "stdout"
        }
      ]
    },
    {
      "cell_type": "markdown",
      "metadata": {
        "id": "AXjJp6KXKtdj"
      },
      "source": [
        "### Task 2"
      ]
    },
    {
      "cell_type": "markdown",
      "metadata": {
        "id": "Skoy_JdlKtdj"
      },
      "source": [
        "Make an explicit function (not using any of NumPy's preset functions nor the `@` operator) solving the inner product of two vectors using the inner product formula: \n",
        "$$A\\cdot B = \\sum_{n=1}^{N} a_n \\times b_n $$\n",
        "$$whereas: N = len(A) = len(B)$$\n",
        "Create a program flowchart for your algorithm and explain it in your methodology. Create 5 distinct pairs vectors which their element count should not be lower than 5 elements. Explain the results at the results discussion section while comparing them to the `np.inner()` function."
      ]
    },
    {
      "cell_type": "code",
      "metadata": {
        "id": "F_bWvCI8Ktdj",
        "colab": {
          "base_uri": "https://localhost:8080/"
        },
        "outputId": "5d34cf61-1ae9-4fa0-cf5a-104b79bd6ebb"
      },
      "source": [
        "def explicit_functions(x, y):\r\n",
        "    p = ((x[0]*y[0]) + (x[1]*y[1]) + (x[2]*y[2]) + (x[3]*y[3]) + (x[4]*y[4]))\r\n",
        "    print(p)\r\n",
        "  \r\n",
        "A = np.array([1,2,3,4,5])\r\n",
        "B = np.array([6,7,8,9,10])\r\n",
        "\r\n",
        "C = np.array([11,12,13,14,15])\r\n",
        "D = np.array([15,14,13,12,11])\r\n",
        "\r\n",
        "E = np.array([20,9,8,7,6])\r\n",
        "F = np.array([5,4,3,2,1])\r\n",
        "\r\n",
        "G = np.array([1,22,3,14,5])\r\n",
        "H = np.array([26,7,18,9,10])\r\n",
        "\r\n",
        "I = np.array([11,2,13,14,5])\r\n",
        "J = np.array([15,4,13,2,11])\r\n",
        "\r\n",
        "print(\"Explicit function for A and B:\")\r\n",
        "explicit_functions(A, B)\r\n",
        "a = np.inner(A, B)\r\n",
        "print(\"the np.inner function of A and B:\\n\",a)\r\n",
        "\r\n",
        "print(\"\\nExplicit function for C and D:\")\r\n",
        "explicit_functions(C, D)\r\n",
        "b = np.inner(C, D)\r\n",
        "print(\"the np.inner function of C and D:\\n\",b)\r\n",
        "\r\n",
        "print(\"\\nExplicit function for E and F:\")\r\n",
        "explicit_functions(E, F)\r\n",
        "c = np.inner(E, F)\r\n",
        "print(\"the np.inner function of E and F:\\n\",c)\r\n",
        "\r\n",
        "print(\"\\nExplicit function for G and H:\")\r\n",
        "explicit_functions(G, H)\r\n",
        "d = np.inner(G, H)\r\n",
        "print(\"the np.inner function of G and H:\\n\",d)\r\n",
        "\r\n",
        "print(\"\\nExplicit function for I and J:\")\r\n",
        "explicit_functions(I, J)\r\n",
        "e = np.inner(I, J)\r\n",
        "print(\"the np.inner function of I and J:\\n\",e)"
      ],
      "execution_count": null,
      "outputs": [
        {
          "output_type": "stream",
          "text": [
            "Explicit function for A and B:\n",
            "130\n",
            "the np.inner function of A and B:\n",
            " 130\n",
            "\n",
            "Explicit function for C and D:\n",
            "835\n",
            "the np.inner function of C and D:\n",
            " 835\n",
            "\n",
            "Explicit function for E and F:\n",
            "180\n",
            "the np.inner function of E and F:\n",
            " 180\n",
            "\n",
            "Explicit function for G and H:\n",
            "410\n",
            "the np.inner function of G and H:\n",
            " 410\n",
            "\n",
            "Explicit function for I and J:\n",
            "425\n",
            "the np.inner function of I and J:\n",
            " 425\n"
          ],
          "name": "stdout"
        }
      ]
    },
    {
      "cell_type": "markdown",
      "metadata": {
        "id": "6qWPdvHaKtdj"
      },
      "source": [
        "### Task 3"
      ]
    },
    {
      "cell_type": "markdown",
      "metadata": {
        "id": "pnHTuNSnKtdj"
      },
      "source": [
        "Code the following vector operation and solve them using the given vector values"
      ]
    },
    {
      "cell_type": "markdown",
      "metadata": {
        "id": "8h7haB7TKtdj"
      },
      "source": [
        "$$ ((A^2 + B^2 + C^2) * (A * (B + A*B)./C))*||A + B + C||$$\n",
        "$$A = \\begin{bmatrix}-0.4\\\\4.3\\\\-0.6\\end{bmatrix}, B = \\begin{bmatrix}-0.2\\\\0.2\\\\1\\end{bmatrix}, C = \\begin{bmatrix}-0.2\\\\2.1\\\\-1.5\\end{bmatrix}$$"
      ]
    },
    {
      "cell_type": "markdown",
      "metadata": {
        "id": "sH6IXNvAKtdk"
      },
      "source": [
        "Create a program flowchart for your algorithm and explain it in your methodology. In your results, compare your answer to the expected output, visualize, and explain the resulting vector using a 3D plot."
      ]
    },
    {
      "cell_type": "code",
      "metadata": {
        "id": "_EI6-IINqus4"
      },
      "source": [
        "A = np.array([-0.4, 4.3, -0.6])\r\n",
        "B = np.array([-0.2, 0.2, 1])\r\n",
        "C = np.array([0.2, 2.1, -1.5])"
      ],
      "execution_count": null,
      "outputs": []
    },
    {
      "cell_type": "code",
      "metadata": {
        "colab": {
          "base_uri": "https://localhost:8080/"
        },
        "id": "uzQ-WwC0Aisp",
        "outputId": "9d79db3a-5d3d-49b4-a4b5-8e4cec5f1141"
      },
      "source": [
        "((A@A+B@B+C@C)*(A*(B+A*B)/C))*np.linalg.norm(A+B+C)"
      ],
      "execution_count": null,
      "outputs": [
        {
          "output_type": "execute_result",
          "data": {
            "text/plain": [
              "array([ 43.09750856, 389.75881751,  28.73167237])"
            ]
          },
          "metadata": {
            "tags": []
          },
          "execution_count": 47
        }
      ]
    },
    {
      "cell_type": "code",
      "metadata": {
        "colab": {
          "base_uri": "https://localhost:8080/",
          "height": 248
        },
        "id": "oRfebwbhBLMC",
        "outputId": "d8c159e3-cb63-451a-8abe-1afbef5c88d5"
      },
      "source": [
        "fig = plt.figure()\r\n",
        "ax = fig.gca(projection='3d')\r\n",
        "\r\n",
        "ax.set_xlim([0, 3])\r\n",
        "ax.set_ylim([0, 3])\r\n",
        "ax.set_zlim([0, 3])\r\n",
        "\r\n",
        "ax.quiver(0, 0, 0, 0.34769805, 1.13001866, 0.6953961, colors='red')\r\n",
        "\r\n",
        "plt.show()"
      ],
      "execution_count": 55,
      "outputs": [
        {
          "output_type": "display_data",
          "data": {
            "image/png": "[encoded data removed]",
            "text/plain": [
              "<Figure size 432x288 with 1 Axes>"
            ]
          },
          "metadata": {
            "tags": [],
            "needs_background": "light"
          }
        }
      ]
    },
    {
      "cell_type": "markdown",
      "metadata": {
        "id": "izU2vRWtKtdk"
      },
      "source": [
        "## Conclusion guide"
      ]
    },
    {
      "cell_type": "markdown",
      "metadata": {
        "id": "B2IBZHkIKtdk"
      },
      "source": [
        "For your conclusion synthesize the concept and application of the laboratory. Briefly discuss what you have learned and achieved in this activity. "
      ]
    }
  ]
}